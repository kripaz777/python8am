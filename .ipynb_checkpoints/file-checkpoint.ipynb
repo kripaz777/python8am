{
 "cells": [
  {
   "cell_type": "code",
   "execution_count": 1,
   "id": "e6114d9b",
   "metadata": {},
   "outputs": [],
   "source": [
    "# file = open('<file_path>','<mode>')\n",
    "# file.close()"
   ]
  },
  {
   "cell_type": "code",
   "execution_count": 2,
   "id": "1823edd7",
   "metadata": {},
   "outputs": [],
   "source": [
    "# with open('file_name>','<mode>') as file:\n",
    "#     <operations>"
   ]
  },
  {
   "cell_type": "code",
   "execution_count": 3,
   "id": "728acda0",
   "metadata": {},
   "outputs": [],
   "source": [
    "# mode\n",
    "# read -> 'r'\n",
    "# create -> 'x'\n",
    "# write -> 'w'\n",
    "# append -> 'a'"
   ]
  },
  {
   "cell_type": "code",
   "execution_count": 6,
   "id": "23b664ce",
   "metadata": {},
   "outputs": [
    {
     "name": "stdout",
     "output_type": "stream",
     "text": [
      "The file is already created\n"
     ]
    }
   ],
   "source": [
    "try:\n",
    "    file = open('new_file.txt','x')\n",
    "    file.close()\n",
    "except:\n",
    "    print(\"The file is already created\")"
   ]
  },
  {
   "cell_type": "code",
   "execution_count": 10,
   "id": "f788baf1",
   "metadata": {
    "scrolled": true
   },
   "outputs": [
    {
     "name": "stdout",
     "output_type": "stream",
     "text": [
      "1.Hello World\n",
      "2.Hello World\n",
      "3.Hello World\n",
      "4.Hello World\n",
      "5.Hello World\n",
      "6.Hello World\n",
      "7.Hello World\n",
      "<class 'str'>\n"
     ]
    }
   ],
   "source": [
    "#Read file\n",
    "file = open('new_file.txt','r')\n",
    "x = file.read()\n",
    "print(x)\n",
    "print(type(x))\n",
    "file.close()"
   ]
  },
  {
   "cell_type": "code",
   "execution_count": 16,
   "id": "fa10a6f6",
   "metadata": {},
   "outputs": [
    {
     "name": "stdout",
     "output_type": "stream",
     "text": [
      "Enter n = 2\n"
     ]
    },
    {
     "data": {
      "text/plain": [
       "['1.Hello World',\n",
       " '2.Hello World',\n",
       " '3.Hello World',\n",
       " '4.Hello World',\n",
       " '5.Hello World',\n",
       " '6.Hello World',\n",
       " '7.Hello World']"
      ]
     },
     "execution_count": 16,
     "metadata": {},
     "output_type": "execute_result"
    }
   ],
   "source": [
    "n = int(input(\"Enter n = \"))\n",
    "x.split('\\n')[n-1]"
   ]
  },
  {
   "cell_type": "code",
   "execution_count": 17,
   "id": "a9618cf1",
   "metadata": {},
   "outputs": [],
   "source": [
    "with open('data.txt','w') as file:\n",
    "    file.write('Hello World')"
   ]
  },
  {
   "cell_type": "code",
   "execution_count": 18,
   "id": "549e7aa5",
   "metadata": {},
   "outputs": [
    {
     "name": "stdout",
     "output_type": "stream",
     "text": [
      "Enter n = 2\n",
      "Enter name = Ram\n",
      "age = 78\n",
      "Enter add = Kathmandu\n",
      "Enter name = Shyam\n",
      "age = 89\n",
      "Enter add = Patan\n"
     ]
    }
   ],
   "source": [
    "s = \"\"\n",
    "n = int(input(\"Enter n = \"))\n",
    "for i in range(n):\n",
    "    name = input(\"Enter name = \")\n",
    "    age = int(input(\"age = \"))\n",
    "    add = input(\"Enter add = \")\n",
    "    s = s+f\"{name} {age} {add}\\n\"\n",
    "    \n",
    "with open('data.txt','w') as file:\n",
    "    file.write(s)"
   ]
  },
  {
   "cell_type": "code",
   "execution_count": 19,
   "id": "d7c39d84",
   "metadata": {},
   "outputs": [
    {
     "data": {
      "text/plain": [
       "'C:\\\\Users\\\\Aayush\\\\Class8am'"
      ]
     },
     "execution_count": 19,
     "metadata": {},
     "output_type": "execute_result"
    }
   ],
   "source": [
    "pwd"
   ]
  },
  {
   "cell_type": "code",
   "execution_count": 20,
   "id": "e210218b",
   "metadata": {},
   "outputs": [
    {
     "name": "stdout",
     "output_type": "stream",
     "text": [
      "Enter n = 2\n",
      "Enter name = Apple\n",
      "Enter price = 300\n",
      "Enter quantity = 2\n",
      "Enter name = Banana\n",
      "Enter price = 4\n",
      "Enter quantity = 100\n",
      "Apple 300 2 600\n",
      "Banana 4 100 400\n",
      "\n"
     ]
    }
   ],
   "source": [
    "s = str()\n",
    "n = int(input(\"Enter n = \"))\n",
    "for i in range(n):\n",
    "    name = input(\"Enter name = \")\n",
    "    price = int(input(\"Enter price = \"))\n",
    "    quantity = int(input(\"Enter quantity = \"))\n",
    "    total = price*quantity\n",
    "    bill = f\"{name} {price} {quantity} {total}\\n\"\n",
    "    s = s+bill\n",
    "    \n",
    "print(s)\n",
    "with open('data.txt','w') as file:\n",
    "    file.write(s)"
   ]
  },
  {
   "cell_type": "code",
   "execution_count": null,
   "id": "a7ebe9c6",
   "metadata": {},
   "outputs": [],
   "source": [
    "#csv file\n",
    "s = str()\n",
    "n = int(input(\"Enter n = \"))\n",
    "for i in range(n):\n",
    "    name = input(\"Enter name = \")\n",
    "    price = int(input(\"Enter price = \"))\n",
    "    quantity = int(input(\"Enter quantity = \"))\n",
    "    total = price*quantity\n",
    "    bill = f\"{name},{price},{quantity},{total}\\n\"\n",
    "    s = s+bill\n",
    "    \n",
    "print(s)\n",
    "with open('data.csv','w') as file:\n",
    "    file.write(s)"
   ]
  }
 ],
 "metadata": {
  "kernelspec": {
   "display_name": "Python 3 (ipykernel)",
   "language": "python",
   "name": "python3"
  },
  "language_info": {
   "codemirror_mode": {
    "name": "ipython",
    "version": 3
   },
   "file_extension": ".py",
   "mimetype": "text/x-python",
   "name": "python",
   "nbconvert_exporter": "python",
   "pygments_lexer": "ipython3",
   "version": "3.9.12"
  }
 },
 "nbformat": 4,
 "nbformat_minor": 5
}
