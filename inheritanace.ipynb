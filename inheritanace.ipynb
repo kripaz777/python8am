{
 "cells": [
  {
   "cell_type": "code",
   "execution_count": 1,
   "id": "ecedf67d",
   "metadata": {},
   "outputs": [],
   "source": [
    "class A:      #parent class\n",
    "    pass\n",
    "\n",
    "class B(A):     #child class\n",
    "    pass\n",
    "\n",
    "\n",
    "obj = B()"
   ]
  },
  {
   "cell_type": "code",
   "execution_count": 5,
   "id": "65c392ed",
   "metadata": {},
   "outputs": [
    {
     "name": "stdout",
     "output_type": "stream",
     "text": [
      "Enter name = Ram\n",
      "Enter age = 34\n",
      "Hello I am Ram. I am 34\n",
      "('Ram', 34)\n"
     ]
    }
   ],
   "source": [
    "class A:\n",
    "    def __init__(self):\n",
    "        self.name = input(\"Enter name = \")\n",
    "        self.age = int(input(\"Enter age = \"))\n",
    "        \n",
    "    def infos(self):\n",
    "        return self.name,self.age\n",
    "        \n",
    "class B(A):\n",
    "    def info(self):\n",
    "        print(f\"Hello I am {self.name}. I am {self.age}\")\n",
    "        \n",
    "obj = B()\n",
    "obj.info()\n",
    "print(obj.infos())"
   ]
  },
  {
   "cell_type": "code",
   "execution_count": null,
   "id": "3e76a21c",
   "metadata": {},
   "outputs": [],
   "source": [
    "class A:\n",
    "    def __init__(self):\n",
    "        self.name = input(\"Enter name = \")                #public members\n",
    "        self.age = int(input(\"Enter age = \"))             #public members\n",
    "        \n",
    "    def infos(self):\n",
    "        return self.name,self.age\n",
    "        \n",
    "class B(A):\n",
    "    def info(self):\n",
    "        print(f\"Hello I am {self.name}. I am {self.age}\")\n",
    "        \n",
    "obj = B()\n",
    "obj1 = A()\n",
    "obj.info()\n",
    "print(obj.infos())"
   ]
  },
  {
   "cell_type": "code",
   "execution_count": 6,
   "id": "b841dc5c",
   "metadata": {},
   "outputs": [
    {
     "name": "stdout",
     "output_type": "stream",
     "text": [
      "Enter name = Ram\n",
      "Enter age = 34\n",
      "Hello I am Ram. I am 34\n",
      "('Ram', 34)\n"
     ]
    }
   ],
   "source": [
    "class A:\n",
    "    def __init__(self,name,age):\n",
    "        self.name = name                #public members\n",
    "        self.age = age             #public members\n",
    "        \n",
    "    def infos(self):\n",
    "        return self.name,self.age\n",
    "        \n",
    "class B(A):\n",
    "    def info(self):\n",
    "        print(f\"Hello I am {self.name}. I am {self.age}\")\n",
    "    \n",
    "name = input(\"Enter name = \")\n",
    "age = int(input(\"Enter age = \"))\n",
    "\n",
    "obj = B(name,age)\n",
    "obj.info()\n",
    "print(obj.infos())"
   ]
  },
  {
   "cell_type": "code",
   "execution_count": null,
   "id": "2f391d68",
   "metadata": {},
   "outputs": [],
   "source": [
    "class A:\n",
    "    def __init__(self,name,age):\n",
    "        self.name = name                #public members\n",
    "        self.age = age             #public members\n",
    "        \n",
    "    def infos(self):\n",
    "        return self.name,self.age\n",
    "        \n",
    "class B(A):\n",
    "    def __init__(name,age,add):\n",
    "        self.add = add\n",
    "        A.__init__(self,name,age)\n",
    "        \n",
    "    def info(self):\n",
    "        print(f\"Hello I am {self.name}. I am {self.age}\")\n",
    "    \n",
    "name = input(\"Enter name = \")\n",
    "age = int(input(\"Enter age = \"))\n",
    "add = input(\"Enter Add = \")\n",
    "obj = B(name,age,add)\n",
    "obj.info()\n",
    "print(obj.infos())"
   ]
  },
  {
   "cell_type": "code",
   "execution_count": null,
   "id": "f09e0f58",
   "metadata": {},
   "outputs": [],
   "source": [
    "class A:\n",
    "    pass\n",
    "\n",
    "class B(A):\n",
    "    pass\n",
    "\n",
    "class C(B):\n",
    "    pass\n",
    "\n",
    "obj = C()"
   ]
  },
  {
   "cell_type": "code",
   "execution_count": null,
   "id": "43fe7cbb",
   "metadata": {},
   "outputs": [],
   "source": [
    "class A:\n",
    "    pass\n",
    "\n",
    "class B:\n",
    "    pass\n",
    "\n",
    "class C(A,B):\n",
    "    pass\n",
    "\n",
    "obj = C()"
   ]
  },
  {
   "cell_type": "code",
   "execution_count": 8,
   "id": "8ce8ad4c",
   "metadata": {},
   "outputs": [
    {
     "name": "stdout",
     "output_type": "stream",
     "text": [
      "Enter name = Ram\n",
      "Enter age = 34\n",
      "Enter Add = Kathmandu\n",
      "Hello I am Ram. I am 34\n",
      "34\n"
     ]
    }
   ],
   "source": [
    "class A:\n",
    "    def __init__(self,name):\n",
    "        self.name = name                #public members\n",
    "        \n",
    "    def infos(self):\n",
    "        return self.age\n",
    "        \n",
    "class B(A):\n",
    "    def __init__(self,name,age):\n",
    "        self.age = age             #public members\n",
    "        A.__init__(self,name)\n",
    "\n",
    "    \n",
    "class C(B):\n",
    "    def __init__(self,name,age,add):\n",
    "        self.add = add\n",
    "        B.__init__(self,name,age)\n",
    "        \n",
    "    def info(self):\n",
    "        print(f\"Hello I am {self.name}. I am {self.age}\")\n",
    "        \n",
    "        \n",
    "    \n",
    "name = input(\"Enter name = \")\n",
    "age = int(input(\"Enter age = \"))\n",
    "add = input(\"Enter Add = \")\n",
    "obj = C(name,age,add)\n",
    "obj.info()\n",
    "print(obj.infos())"
   ]
  },
  {
   "cell_type": "code",
   "execution_count": 3,
   "id": "9a967060",
   "metadata": {},
   "outputs": [
    {
     "name": "stdout",
     "output_type": "stream",
     "text": [
      "Enter add = Kathmandu\n",
      "Enter name = Ram\n",
      "Enter age = 78\n",
      "Hello I am Ram. I am 78\n",
      "Ram\n"
     ]
    }
   ],
   "source": [
    "class A:\n",
    "    def __init__(self):\n",
    "        self.name = input(\"Enter name = \")                #public m    \n",
    "    def infos(self):\n",
    "        return self.name\n",
    "        \n",
    "class B:\n",
    "    def __init__(self):\n",
    "        self.age = int(input(\"Enter age = \"))             #public members\n",
    "\n",
    "class C(A,B):\n",
    "    def __init__(self):\n",
    "        self.add = input(\"Enter add = \")\n",
    "        A.__init__(self)\n",
    "        B.__init__(self)\n",
    "        \n",
    "    def info(self):\n",
    "        print(f\"Hello I am {self.name}. I am {self.age}\")\n",
    "             \n",
    "obj = C()\n",
    "obj.info()\n",
    "print(obj.infos())"
   ]
  },
  {
   "cell_type": "code",
   "execution_count": 4,
   "id": "1c43b245",
   "metadata": {},
   "outputs": [
    {
     "name": "stdout",
     "output_type": "stream",
     "text": [
      "Enter name = Ram\n",
      "Enter age = 78\n",
      "Enter Add = Kathmandu\n",
      "Hello I am Ram. I am 78\n",
      "Ram\n"
     ]
    }
   ],
   "source": [
    "class A:\n",
    "    def __init__(self,name):\n",
    "        self.name = name                #public members\n",
    "    def infos(self):\n",
    "        return self.name\n",
    "class B:\n",
    "    def __init__(self,age):\n",
    "        self.age = age             #public members    \n",
    "class C(A,B):\n",
    "    def __init__(self,name,age,add):\n",
    "        self.add = add\n",
    "        B.__init__(self,age)\n",
    "        A.__init__(self,name) \n",
    "    def info(self):\n",
    "        print(f\"Hello I am {self.name}. I am {self.age}\")\n",
    "           \n",
    "name = input(\"Enter name = \")\n",
    "age = int(input(\"Enter age = \"))\n",
    "add = input(\"Enter Add = \")\n",
    "obj = C(name,age,add)\n",
    "obj.info()\n",
    "print(obj.infos())"
   ]
  },
  {
   "cell_type": "code",
   "execution_count": 6,
   "id": "9a6848ac",
   "metadata": {},
   "outputs": [
    {
     "name": "stdout",
     "output_type": "stream",
     "text": [
      "Enter name = Ram\n",
      "Enter age = 78\n",
      "Enter Add = Kathmandu\n",
      "Hello I am Ram. I am 78\n",
      "Ram\n",
      "Ram\n"
     ]
    }
   ],
   "source": [
    "class A:\n",
    "    def __init__(self,name):\n",
    "        self.name = name                #public members\n",
    "    def infos(self):\n",
    "        return self.name\n",
    "class B:\n",
    "    def __init__(self,age):\n",
    "        self.age = age             #public members    \n",
    "class C(A,B):\n",
    "    def __init__(self,name,age,add):\n",
    "        self.add = add\n",
    "        B.__init__(self,age)\n",
    "        A.__init__(self,name) \n",
    "    def info(self):\n",
    "        print(f\"Hello I am {self.name}. I am {self.age}\")\n",
    "        print(super().infos())\n",
    "        print(A.infos(self))\n",
    "           \n",
    "name = input(\"Enter name = \")\n",
    "age = int(input(\"Enter age = \"))\n",
    "add = input(\"Enter Add = \")\n",
    "obj = C(name,age,add)\n",
    "obj.info()"
   ]
  },
  {
   "cell_type": "code",
   "execution_count": null,
   "id": "5fb186d3",
   "metadata": {},
   "outputs": [],
   "source": [
    "# public members\n",
    "class Info:\n",
    "    def __init__(self,name,age,add):\n",
    "        self.name = name\n",
    "        self.age = age\n",
    "        self.add = add\n",
    "        \n",
    "obj = Info(\"Ram\",34,\"Kathmandu\")\n",
    "\n",
    "print(obj.name,obj.age,obj.add)\n"
   ]
  },
  {
   "cell_type": "code",
   "execution_count": 8,
   "id": "6c7b8119",
   "metadata": {},
   "outputs": [
    {
     "name": "stdout",
     "output_type": "stream",
     "text": [
      "Ram 34 Kathmandu\n"
     ]
    }
   ],
   "source": [
    "# protected members\n",
    "class Info:\n",
    "    def __init__(self,name,age,add):\n",
    "        self._name = name\n",
    "        self._age = age\n",
    "        self._add = add\n",
    "        \n",
    "obj = Info(\"Ram\",34,\"Kathmandu\")\n",
    "\n",
    "print(obj._name,obj._age,obj._add)\n"
   ]
  },
  {
   "cell_type": "code",
   "execution_count": 9,
   "id": "04323bad",
   "metadata": {},
   "outputs": [
    {
     "ename": "AttributeError",
     "evalue": "'Info' object has no attribute '__name'",
     "output_type": "error",
     "traceback": [
      "\u001b[1;31m---------------------------------------------------------------------------\u001b[0m",
      "\u001b[1;31mAttributeError\u001b[0m                            Traceback (most recent call last)",
      "Input \u001b[1;32mIn [9]\u001b[0m, in \u001b[0;36m<cell line: 10>\u001b[1;34m()\u001b[0m\n\u001b[0;32m      6\u001b[0m         \u001b[38;5;28mself\u001b[39m\u001b[38;5;241m.\u001b[39m__add \u001b[38;5;241m=\u001b[39m add\n\u001b[0;32m      8\u001b[0m obj \u001b[38;5;241m=\u001b[39m Info(\u001b[38;5;124m\"\u001b[39m\u001b[38;5;124mRam\u001b[39m\u001b[38;5;124m\"\u001b[39m,\u001b[38;5;241m34\u001b[39m,\u001b[38;5;124m\"\u001b[39m\u001b[38;5;124mKathmandu\u001b[39m\u001b[38;5;124m\"\u001b[39m)\n\u001b[1;32m---> 10\u001b[0m \u001b[38;5;28mprint\u001b[39m(\u001b[43mobj\u001b[49m\u001b[38;5;241;43m.\u001b[39;49m\u001b[43m__name\u001b[49m,obj\u001b[38;5;241m.\u001b[39m__age,obj\u001b[38;5;241m.\u001b[39m__add)\n",
      "\u001b[1;31mAttributeError\u001b[0m: 'Info' object has no attribute '__name'"
     ]
    }
   ],
   "source": [
    "# private members\n",
    "class Info:\n",
    "    def __init__(self,name,age,add):\n",
    "        self.__name = name\n",
    "        self.__age = age\n",
    "        self.__add = add\n",
    "        \n",
    "obj = Info(\"Ram\",34,\"Kathmandu\")\n",
    "\n",
    "print(obj.__name,obj.__age,obj.__add)\n"
   ]
  },
  {
   "cell_type": "code",
   "execution_count": 10,
   "id": "69ac3e46",
   "metadata": {},
   "outputs": [
    {
     "name": "stdout",
     "output_type": "stream",
     "text": [
      "Ram 34 Kathmandu\n"
     ]
    }
   ],
   "source": [
    "# private members\n",
    "class Info:\n",
    "    def __init__(self,name,age,add):\n",
    "        self.__name = name\n",
    "        self.__age = age\n",
    "        self.__add = add\n",
    "        \n",
    "obj = Info(\"Ram\",34,\"Kathmandu\")\n",
    "\n",
    "print(obj._Info__name,obj._Info__age,obj._Info__add)"
   ]
  },
  {
   "cell_type": "code",
   "execution_count": null,
   "id": "6f0f0ebf",
   "metadata": {},
   "outputs": [],
   "source": [
    "class A:\n",
    "    def __init__(self,name,age):\n",
    "        self.__name = name          #public members\n",
    "        self._age = age             #protected members\n",
    "        \n",
    "    def infos(self):\n",
    "         print(self.__name,self._age)\n",
    "        \n",
    "class B(A):\n",
    "    def __init__(name,age,add):\n",
    "        self.add = add                  #public members\n",
    "        A.__init__(self,name,age)\n",
    "        \n",
    "    def info(self):\n",
    "        print(f\"Hello I am from {self.add}. I am {self._age}\")\n",
    "    \n",
    "name = input(\"Enter name = \")\n",
    "age = int(input(\"Enter age = \"))\n",
    "add = input(\"Enter Add = \")\n",
    "obj = B(name,age,add)\n",
    "obj.info()\n",
    "print(obj.infos())"
   ]
  },
  {
   "cell_type": "code",
   "execution_count": null,
   "id": "15157be7",
   "metadata": {},
   "outputs": [],
   "source": [
    "class A:\n",
    "    def __init__(self,name):\n",
    "        self._name = name                #public members\n",
    "    def infos(self):\n",
    "        return self.name\n",
    "class B:\n",
    "    def __init__(self,age):\n",
    "        self._age = age             #public members    \n",
    "class C(A,B):\n",
    "    def __init__(self,name,age,add):\n",
    "        self.__add = add\n",
    "        B.__init__(self,age)\n",
    "        A.__init__(self,name) \n",
    "    def info(self):\n",
    "        print(f\"Hello I am {self._name}. I am {self._age}. I am from {self.__add}\")\n",
    "        print(super().infos())\n",
    "        print(A.infos(self))\n",
    "           \n",
    "name = input(\"Enter name = \")\n",
    "age = int(input(\"Enter age = \"))\n",
    "add = input(\"Enter Add = \")\n",
    "obj = C(name,age,add)\n",
    "obj.info()"
   ]
  }
 ],
 "metadata": {
  "kernelspec": {
   "display_name": "Python 3 (ipykernel)",
   "language": "python",
   "name": "python3"
  },
  "language_info": {
   "codemirror_mode": {
    "name": "ipython",
    "version": 3
   },
   "file_extension": ".py",
   "mimetype": "text/x-python",
   "name": "python",
   "nbconvert_exporter": "python",
   "pygments_lexer": "ipython3",
   "version": "3.9.12"
  }
 },
 "nbformat": 4,
 "nbformat_minor": 5
}
