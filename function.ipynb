{
 "cells": [
  {
   "cell_type": "code",
   "execution_count": 1,
   "id": "aac2a72a",
   "metadata": {},
   "outputs": [],
   "source": [
    "# Predefined function\n",
    "# print() int() str() float()\n",
    "# input() list() tuple() dict() "
   ]
  },
  {
   "cell_type": "code",
   "execution_count": 2,
   "id": "7bb6a252",
   "metadata": {},
   "outputs": [],
   "source": [
    "# def <function_name>():\n",
    "#     <operations>\n",
    "    \n",
    "# <function_name>()"
   ]
  },
  {
   "cell_type": "code",
   "execution_count": 5,
   "id": "c6be4063",
   "metadata": {},
   "outputs": [
    {
     "name": "stdout",
     "output_type": "stream",
     "text": [
      "Hello World\n",
      "Hello World\n"
     ]
    }
   ],
   "source": [
    "def hello():\n",
    "    print(\"Hello World\")\n",
    "    \n",
    "hello()\n",
    "hello()"
   ]
  },
  {
   "cell_type": "code",
   "execution_count": 7,
   "id": "8aa8f832",
   "metadata": {},
   "outputs": [
    {
     "name": "stdout",
     "output_type": "stream",
     "text": [
      "Enter l = 100\n",
      "Enter b = 23\n",
      "2300\n"
     ]
    }
   ],
   "source": [
    "def area():\n",
    "    l = int(input(\"Enter l = \"))  #local variable\n",
    "    b = int(input(\"Enter b = \"))  #local variable\n",
    "    a = l*b                       #local variable\n",
    "    print(a)\n",
    "    \n",
    "area()"
   ]
  },
  {
   "cell_type": "code",
   "execution_count": 8,
   "id": "4d79fe39",
   "metadata": {},
   "outputs": [
    {
     "name": "stdout",
     "output_type": "stream",
     "text": [
      "Enter l = 100\n",
      "Enter b = 50\n",
      "5000\n"
     ]
    }
   ],
   "source": [
    "l = int(input(\"Enter l = \"))  #global variable\n",
    "b = int(input(\"Enter b = \"))  #global variable\n",
    "def area(): \n",
    "    a = l*b                   #local variable\n",
    "    print(a)\n",
    "    \n",
    "area()"
   ]
  },
  {
   "cell_type": "code",
   "execution_count": 9,
   "id": "e48fb008",
   "metadata": {},
   "outputs": [
    {
     "name": "stdout",
     "output_type": "stream",
     "text": [
      "Enter l = 100\n",
      "Enter b = 2\n",
      "Enter h = 3\n",
      "200\n",
      "600\n"
     ]
    }
   ],
   "source": [
    "l = int(input(\"Enter l = \"))  #global variable\n",
    "b = int(input(\"Enter b = \"))  #global variable\n",
    "h = int(input(\"Enter h = \"))\n",
    "def area(): \n",
    "    a = l*b                   #local variable\n",
    "    print(a)\n",
    "\n",
    "def volume():\n",
    "    v = l*b*h\n",
    "    print(v)\n",
    "    \n",
    "area()\n",
    "volume()"
   ]
  },
  {
   "cell_type": "code",
   "execution_count": 10,
   "id": "d69bc8e1",
   "metadata": {},
   "outputs": [],
   "source": [
    "# function without argument and no return type\n",
    "# function with argument and no return type\n",
    "# function without argument and return type\n",
    "# function with argument and return type"
   ]
  },
  {
   "cell_type": "code",
   "execution_count": 11,
   "id": "2a382e82",
   "metadata": {},
   "outputs": [
    {
     "name": "stdout",
     "output_type": "stream",
     "text": [
      "Hello World\n"
     ]
    }
   ],
   "source": [
    "# function with argument and no return type\n",
    "def hello(x):  #parameter\n",
    "    print(x)\n",
    "\n",
    "hello(\"Hello World\")  #agument"
   ]
  },
  {
   "cell_type": "code",
   "execution_count": 12,
   "id": "cbc9d7c4",
   "metadata": {},
   "outputs": [
    {
     "name": "stdout",
     "output_type": "stream",
     "text": [
      "Enter l = 100\n",
      "Enter b = 50\n",
      "5000\n"
     ]
    }
   ],
   "source": [
    "# function with argument and no return type\n",
    "def area(x,y):\n",
    "    a = x*y\n",
    "    print(a)\n",
    "    \n",
    "l = int(input(\"Enter l = \"))\n",
    "b = int(input(\"Enter b = \"))\n",
    "area(l,b)"
   ]
  },
  {
   "cell_type": "code",
   "execution_count": 13,
   "id": "8b99e36a",
   "metadata": {},
   "outputs": [
    {
     "name": "stdout",
     "output_type": "stream",
     "text": [
      "Enter l = 100\n",
      "Enter b = 50\n",
      "Enter h = 3\n",
      "The area is =  5000\n",
      "The volume is =  50\n"
     ]
    }
   ],
   "source": [
    "# function with argument and no return type\n",
    "def cal(x,y,z):\n",
    "    a = x*y\n",
    "    v = a*z\n",
    "    print(\"The area is = \",a)\n",
    "    print(\"The volume is = \",v)\n",
    "    \n",
    "l = int(input(\"Enter l = \"))\n",
    "b = int(input(\"Enter b = \"))\n",
    "h = int(input(\"Enter h = \"))\n",
    "cal(l,b,h)"
   ]
  },
  {
   "cell_type": "code",
   "execution_count": null,
   "id": "b3bfa719",
   "metadata": {},
   "outputs": [],
   "source": [
    "def add(a,b):\n",
    "    print(a+b)\n",
    "def sub(a,b):\n",
    "    print(a-b)\n",
    "def mul(a,b):\n",
    "    print(a*b)\n",
    "def div(a,b):\n",
    "    print(a/b)\n",
    "    \n",
    "def cal(a,b,o):\n",
    "    if o == '+':\n",
    "        add(a,b)\n",
    "    elif o == '-':\n",
    "        sub(a,b)\n",
    "    elif o == '*':\n",
    "        mul(a,b)\n",
    "    elif o == '/':\n",
    "        div(a,b)\n",
    "    else:\n",
    "        print(\"Invalid Operator\")\n",
    "    \n",
    "a = int(input(\"Enter a = \"))\n",
    "b = int(input(\"Enter b = \"))\n",
    "o = input(\"Enter + - * /   \")\n",
    "cal(a,b,o)"
   ]
  },
  {
   "cell_type": "code",
   "execution_count": 14,
   "id": "a4d3979a",
   "metadata": {},
   "outputs": [],
   "source": [
    "# Returen type function"
   ]
  },
  {
   "cell_type": "code",
   "execution_count": 19,
   "id": "8a480fdc",
   "metadata": {},
   "outputs": [
    {
     "name": "stdout",
     "output_type": "stream",
     "text": [
      "Hello World\n"
     ]
    }
   ],
   "source": [
    "def hello(x):\n",
    "    y = x+\" World\"\n",
    "    return y\n",
    "\n",
    "print(hello(\"Hello\"))"
   ]
  },
  {
   "cell_type": "code",
   "execution_count": 22,
   "id": "4a4c3def",
   "metadata": {},
   "outputs": [
    {
     "name": "stdout",
     "output_type": "stream",
     "text": [
      "Hello World I am python\n"
     ]
    }
   ],
   "source": [
    "def hello(x):\n",
    "    y = x+\" World\"\n",
    "    return y\n",
    "\n",
    "z = hello(\"Hello\")\n",
    "print(z+\" I am python\")"
   ]
  },
  {
   "cell_type": "code",
   "execution_count": 23,
   "id": "7875940f",
   "metadata": {},
   "outputs": [
    {
     "name": "stdout",
     "output_type": "stream",
     "text": [
      "Enter l = 100\n",
      "Enter b = 20\n",
      "Enter h = 3\n",
      "The volume =  6000\n"
     ]
    }
   ],
   "source": [
    "def area(l,b):\n",
    "    a = l*b\n",
    "    return a\n",
    "\n",
    "l = int(input(\"Enter l = \"))\n",
    "b = int(input(\"Enter b = \"))\n",
    "h = int(input(\"Enter h = \"))\n",
    "\n",
    "ar = area(l,b)\n",
    "volume = ar*h\n",
    "print(\"The volume = \",volume)"
   ]
  },
  {
   "cell_type": "code",
   "execution_count": null,
   "id": "8c67144a",
   "metadata": {},
   "outputs": [],
   "source": [
    "def add(a,b):\n",
    "    return (a+b)\n",
    "def sub(a,b):\n",
    "    return (a-b)\n",
    "def mul(a,b):\n",
    "    return (a*b)\n",
    "def div(a,b):\n",
    "    return(a/b)\n",
    "    \n",
    "def cal(a,b,o):\n",
    "    if o == '+':\n",
    "        print(add(a,b))\n",
    "    elif o == '-':\n",
    "        print(sub(a,b))\n",
    "    elif o == '*':\n",
    "        print(mul(a,b))\n",
    "    elif o == '/':\n",
    "        print(div(a,b))\n",
    "    else:\n",
    "        print(\"Invalid Operator\")\n",
    "    \n",
    "a = int(input(\"Enter a = \"))\n",
    "b = int(input(\"Enter b = \"))\n",
    "o = input(\"Enter + - * /   \")\n",
    "cal(a,b,o)"
   ]
  },
  {
   "cell_type": "code",
   "execution_count": null,
   "id": "d97cf622",
   "metadata": {},
   "outputs": [],
   "source": [
    "def hello():\n",
    "    print(\"Hello World\")\n",
    "    hello()\n",
    "    \n",
    "hello()"
   ]
  },
  {
   "cell_type": "code",
   "execution_count": 2,
   "id": "b4402146",
   "metadata": {},
   "outputs": [
    {
     "name": "stdout",
     "output_type": "stream",
     "text": [
      "Enter p = 1000\n",
      "Enter t = 2\n",
      "Enter r = 3\n",
      "60.0\n",
      "Enter for more cal  \n",
      "Enter p = 1000\n",
      "Enter t = 2\n",
      "Enter r = 3\n",
      "60.0\n",
      "Enter for more cal  aas\n"
     ]
    }
   ],
   "source": [
    "def cal():\n",
    "    p =int(input(\"Enter p = \"))\n",
    "    t =int(input(\"Enter t = \"))\n",
    "    r =int(input(\"Enter r = \"))\n",
    "    i = p*t*r/100\n",
    "    print(i)\n",
    "    x = input(\"Enter for more cal  \")\n",
    "    if x == '':\n",
    "        cal()\n",
    "    \n",
    "cal()"
   ]
  },
  {
   "cell_type": "code",
   "execution_count": 3,
   "id": "8a8efb2c",
   "metadata": {},
   "outputs": [
    {
     "data": {
      "text/plain": [
       "120"
      ]
     },
     "execution_count": 3,
     "metadata": {},
     "output_type": "execute_result"
    }
   ],
   "source": [
    "# math function\n",
    "import math as m\n",
    "m.factorial(5)"
   ]
  },
  {
   "cell_type": "code",
   "execution_count": null,
   "id": "4ebf02f9",
   "metadata": {},
   "outputs": [],
   "source": []
  }
 ],
 "metadata": {
  "kernelspec": {
   "display_name": "Python 3 (ipykernel)",
   "language": "python",
   "name": "python3"
  },
  "language_info": {
   "codemirror_mode": {
    "name": "ipython",
    "version": 3
   },
   "file_extension": ".py",
   "mimetype": "text/x-python",
   "name": "python",
   "nbconvert_exporter": "python",
   "pygments_lexer": "ipython3",
   "version": "3.9.12"
  }
 },
 "nbformat": 4,
 "nbformat_minor": 5
}
