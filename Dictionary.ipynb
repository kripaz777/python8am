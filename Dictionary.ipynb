{
 "cells": [
  {
   "cell_type": "code",
   "execution_count": 1,
   "id": "ebd77c28",
   "metadata": {},
   "outputs": [],
   "source": [
    "# dictionary\n",
    "# -indexed\n",
    "# -Duplicate values\n",
    "# -Ordered\n",
    "# -Mutable"
   ]
  },
  {
   "cell_type": "code",
   "execution_count": 2,
   "id": "84fc9ce1",
   "metadata": {},
   "outputs": [],
   "source": [
    "d = dict()\n",
    "d = {}"
   ]
  },
  {
   "cell_type": "code",
   "execution_count": 3,
   "id": "2fbcac27",
   "metadata": {},
   "outputs": [
    {
     "data": {
      "text/plain": [
       "{'a': 'apple', 'b': 'ball'}"
      ]
     },
     "execution_count": 3,
     "metadata": {},
     "output_type": "execute_result"
    }
   ],
   "source": [
    "d = {\"a\":\"apple\",\"b\":\"ball\"}\n",
    "d"
   ]
  },
  {
   "cell_type": "code",
   "execution_count": 7,
   "id": "d2411fa1",
   "metadata": {},
   "outputs": [
    {
     "data": {
      "text/plain": [
       "'ball'"
      ]
     },
     "execution_count": 7,
     "metadata": {},
     "output_type": "execute_result"
    }
   ],
   "source": [
    "d['b']"
   ]
  },
  {
   "cell_type": "code",
   "execution_count": 8,
   "id": "c06db7ad",
   "metadata": {},
   "outputs": [
    {
     "data": {
      "text/plain": [
       "{'a': 'apple', 'b': 'ball', 'A': 'apple'}"
      ]
     },
     "execution_count": 8,
     "metadata": {},
     "output_type": "execute_result"
    }
   ],
   "source": [
    "d = {\"a\":\"apple\",\"b\":\"ball\",\"A\":\"apple\"}\n",
    "d"
   ]
  },
  {
   "cell_type": "code",
   "execution_count": 9,
   "id": "9d5d0538",
   "metadata": {},
   "outputs": [
    {
     "data": {
      "text/plain": [
       "{'A': 'Apple', 'b': 'ball'}"
      ]
     },
     "execution_count": 9,
     "metadata": {},
     "output_type": "execute_result"
    }
   ],
   "source": [
    "d = {\"A\":\"apple\",\"b\":\"ball\",\"A\":\"Apple\"}\n",
    "d"
   ]
  },
  {
   "cell_type": "code",
   "execution_count": 10,
   "id": "4e15c75e",
   "metadata": {},
   "outputs": [
    {
     "data": {
      "text/plain": [
       "{'a': 'apple', 'b': 'ball', 'A': 'apple', 'c': 'Cat'}"
      ]
     },
     "execution_count": 10,
     "metadata": {},
     "output_type": "execute_result"
    }
   ],
   "source": [
    "d = {\"a\":\"apple\",\"b\":\"ball\",\"A\":\"apple\"}\n",
    "d['c'] = 'Cat'\n",
    "d"
   ]
  },
  {
   "cell_type": "code",
   "execution_count": 11,
   "id": "66072db1",
   "metadata": {},
   "outputs": [
    {
     "data": {
      "text/plain": [
       "{'a': 'Apple', 'b': 'ball', 'A': 'apple'}"
      ]
     },
     "execution_count": 11,
     "metadata": {},
     "output_type": "execute_result"
    }
   ],
   "source": [
    "d = {\"a\":\"apple\",\"b\":\"ball\",\"A\":\"apple\"}\n",
    "d['a'] = 'Apple'\n",
    "d"
   ]
  },
  {
   "cell_type": "code",
   "execution_count": 12,
   "id": "a21ceea7",
   "metadata": {},
   "outputs": [
    {
     "data": {
      "text/plain": [
       "{'a': 'Apple', 'b': 'Ball'}"
      ]
     },
     "execution_count": 12,
     "metadata": {},
     "output_type": "execute_result"
    }
   ],
   "source": [
    "d = {}\n",
    "d['a'] = \"Apple\"\n",
    "d['b'] = \"Ball\"\n",
    "d"
   ]
  },
  {
   "cell_type": "code",
   "execution_count": 13,
   "id": "6e10360e",
   "metadata": {},
   "outputs": [
    {
     "name": "stdout",
     "output_type": "stream",
     "text": [
      "Enter n = 2\n",
      "Enter nameRam\n",
      "Enter phone9808778765\n",
      "Enter nameShyam\n",
      "Enter phone980878765\n",
      "{'Ram': '9808778765', 'Shyam': '980878765'}\n"
     ]
    }
   ],
   "source": [
    "d = {}\n",
    "n = int(input(\"Enter n = \"))\n",
    "for i in range(n):\n",
    "    name = input(\"Enter name\")\n",
    "    phone = input(\"Enter phone\")\n",
    "    d[name] = phone\n",
    "    \n",
    "print(d)"
   ]
  },
  {
   "cell_type": "code",
   "execution_count": 14,
   "id": "49560302",
   "metadata": {},
   "outputs": [
    {
     "name": "stdout",
     "output_type": "stream",
     "text": [
      "Ram\n",
      "Shyam\n"
     ]
    }
   ],
   "source": [
    "d = {'Ram': '9808778765', 'Shyam': '980878765'}\n",
    "for i in d:\n",
    "    print(i)"
   ]
  },
  {
   "cell_type": "code",
   "execution_count": 15,
   "id": "b13841c3",
   "metadata": {},
   "outputs": [
    {
     "name": "stdout",
     "output_type": "stream",
     "text": [
      "9808778765\n",
      "980878765\n"
     ]
    }
   ],
   "source": [
    "d = {'Ram': '9808778765', 'Shyam': '980878765'}\n",
    "for i in d.values():\n",
    "    print(i)"
   ]
  },
  {
   "cell_type": "code",
   "execution_count": 16,
   "id": "a7d94a15",
   "metadata": {},
   "outputs": [
    {
     "name": "stdout",
     "output_type": "stream",
     "text": [
      "('Ram', '9808778765')\n",
      "('Shyam', '980878765')\n"
     ]
    }
   ],
   "source": [
    "d = {'Ram': '9808778765', 'Shyam': '980878765'}\n",
    "for i in d.items():\n",
    "    print(i)"
   ]
  },
  {
   "cell_type": "code",
   "execution_count": 17,
   "id": "d68c909c",
   "metadata": {},
   "outputs": [
    {
     "name": "stdout",
     "output_type": "stream",
     "text": [
      "[('Ram', '9808778765'), ('Shyam', '980878765')]\n"
     ]
    }
   ],
   "source": [
    "l = []\n",
    "d = {'Ram': '9808778765', 'Shyam': '980878765'}\n",
    "for i in d.items():\n",
    "    l.append(i)\n",
    "print(l)"
   ]
  },
  {
   "cell_type": "code",
   "execution_count": 18,
   "id": "a9c8ccd5",
   "metadata": {},
   "outputs": [
    {
     "data": {
      "text/plain": [
       "{'Ram': '9808778765', 'Shyam': '980878765'}"
      ]
     },
     "execution_count": 18,
     "metadata": {},
     "output_type": "execute_result"
    }
   ],
   "source": [
    "dict(l)"
   ]
  },
  {
   "cell_type": "code",
   "execution_count": 19,
   "id": "011ae885",
   "metadata": {},
   "outputs": [
    {
     "data": {
      "text/plain": [
       "{'Shyam': '980878765'}"
      ]
     },
     "execution_count": 19,
     "metadata": {},
     "output_type": "execute_result"
    }
   ],
   "source": [
    "# del\n",
    "d = {'Ram': '9808778765', 'Shyam': '980878765'}\n",
    "del d['Ram']\n",
    "d"
   ]
  },
  {
   "cell_type": "code",
   "execution_count": 21,
   "id": "95cef03d",
   "metadata": {},
   "outputs": [
    {
     "name": "stdout",
     "output_type": "stream",
     "text": [
      "9808778765\n",
      "{'Shyam': '980878765'}\n"
     ]
    }
   ],
   "source": [
    "# pop()\n",
    "d = {'Ram': '9808778765', 'Shyam': '980878765'}\n",
    "c = d.pop('Ram')\n",
    "print(c)\n",
    "print(d)"
   ]
  },
  {
   "cell_type": "code",
   "execution_count": 22,
   "id": "429e9943",
   "metadata": {},
   "outputs": [
    {
     "data": {
      "text/plain": [
       "{'Ram': ['9808778765', '9808778723'], 'Shyam': ['980878765', '9867667654']}"
      ]
     },
     "execution_count": 22,
     "metadata": {},
     "output_type": "execute_result"
    }
   ],
   "source": [
    "# list inside dictionary\n",
    "d = {'Ram': ['9808778765','9808778723'], 'Shyam': ['980878765','9867667654']}\n",
    "d"
   ]
  },
  {
   "cell_type": "code",
   "execution_count": 23,
   "id": "a3454040",
   "metadata": {},
   "outputs": [
    {
     "name": "stdout",
     "output_type": "stream",
     "text": [
      "Enter n = 2\n",
      "Enter nameRam\n",
      "Enter ntc phone9878778654\n",
      "Enter ncell phone9808778765\n",
      "Enter nameShyam\n",
      "Enter ntc phone9867667634\n",
      "Enter ncell phone9808667640\n",
      "{'Ram': ['9878778654', '9808778765'], 'Shyam': ['9867667634', '9808667640']}\n"
     ]
    }
   ],
   "source": [
    "d = {}\n",
    "n = int(input(\"Enter n = \"))\n",
    "for i in range(n):\n",
    "    name = input(\"Enter name\")\n",
    "    ntc_phone = input(\"Enter ntc phone\")\n",
    "    ncell_phone = input(\"Enter ncell phone\")\n",
    "    d[name] = [ntc_phone,ncell_phone]\n",
    "    \n",
    "print(d)"
   ]
  },
  {
   "cell_type": "code",
   "execution_count": 24,
   "id": "5e91025c",
   "metadata": {},
   "outputs": [
    {
     "data": {
      "text/plain": [
       "{'Ram': ['9878778654', '9808778765'],\n",
       " 'Shyam': ['9867667634', '9808667640'],\n",
       " 'Hari': ['980878765', '9808667654']}"
      ]
     },
     "execution_count": 24,
     "metadata": {},
     "output_type": "execute_result"
    }
   ],
   "source": [
    "d = {'Ram': ['9878778654', '9808778765'], 'Shyam': ['9867667634', '9808667640']}\n",
    "d['Hari'] = ['980878765','9808667654']\n",
    "d"
   ]
  },
  {
   "cell_type": "code",
   "execution_count": 27,
   "id": "bd018ead",
   "metadata": {},
   "outputs": [
    {
     "data": {
      "text/plain": [
       "{'Ram': ['9878778654', '9808778765'],\n",
       " 'Shyam': ['9867667634', '9808667640', '9808778765']}"
      ]
     },
     "execution_count": 27,
     "metadata": {},
     "output_type": "execute_result"
    }
   ],
   "source": [
    "d = {'Ram': ['9878778654', '9808778765'], 'Shyam': ['9867667634', '9808667640']}\n",
    "d['Shyam'].append('9808778765')\n",
    "d"
   ]
  },
  {
   "cell_type": "raw",
   "id": "3f585856",
   "metadata": {},
   "source": [
    "d = {'Ram': ['9878778654', '9808778765'], 'Shyam': ['9867667634', '9808667640']}\n",
    "del d['Ram'][0]\n",
    "d"
   ]
  },
  {
   "cell_type": "code",
   "execution_count": 31,
   "id": "9423a1e1",
   "metadata": {},
   "outputs": [
    {
     "data": {
      "text/plain": [
       "{'name': ['Ram', 'Shyam', 'Hari'],\n",
       " 'age': [64, 89, 43],\n",
       " 'add': ['Kathmandu', 'Bhaktapur', 'Lalitpur']}"
      ]
     },
     "execution_count": 31,
     "metadata": {},
     "output_type": "execute_result"
    }
   ],
   "source": [
    "d = {'name':['Ram','Shyam','Hari'],'age':[64,89,43],'add':['Kathmandu','Bhaktapur','Lalitpur']}\n",
    "d"
   ]
  },
  {
   "cell_type": "code",
   "execution_count": 33,
   "id": "b7c7f54e",
   "metadata": {},
   "outputs": [
    {
     "data": {
      "text/plain": [
       "{'name': ['Ram', 'Shyam', 'Hari', 'Puskar'],\n",
       " 'age': [64, 89, 43, 45],\n",
       " 'add': ['Kathmandu', 'Bhaktapur', 'Lalitpur', 'Bara']}"
      ]
     },
     "execution_count": 33,
     "metadata": {},
     "output_type": "execute_result"
    }
   ],
   "source": [
    "d = {'name':['Ram','Shyam','Hari'],'age':[64,89,43],'add':['Kathmandu','Bhaktapur','Lalitpur']}\n",
    "\n",
    "d['name'].append('Puskar')\n",
    "d['age'].append(45)\n",
    "d['add'].append('Bara')\n",
    "d"
   ]
  },
  {
   "cell_type": "code",
   "execution_count": 34,
   "id": "4d83cb16",
   "metadata": {},
   "outputs": [
    {
     "data": {
      "text/plain": [
       "[{'name': 'Ram', 'age': 45, 'add': 'Kathmandu'},\n",
       " {'name': 'Rama', 'age': 41, 'add': 'Bara'},\n",
       " {'name': 'Shyam', 'age': 48, 'add': 'Bara'}]"
      ]
     },
     "execution_count": 34,
     "metadata": {},
     "output_type": "execute_result"
    }
   ],
   "source": [
    "# dict inside list\n",
    "l = [{'name':'Ram','age':45,'add':'Kathmandu'},\n",
    "    {'name':'Rama','age':41,'add':'Bara'},\n",
    "    {'name':'Shyam','age':48,'add':'Bara'}]\n",
    "l"
   ]
  },
  {
   "cell_type": "code",
   "execution_count": 35,
   "id": "7145f4e1",
   "metadata": {},
   "outputs": [
    {
     "name": "stdout",
     "output_type": "stream",
     "text": [
      "Enter n = 2\n",
      "Enter name = Ram\n",
      "Enter age = 78\n",
      "Enter add = Kathmandu\n",
      "Enter name = Shyam\n",
      "Enter age = 89\n",
      "Enter add = Bara\n"
     ]
    },
    {
     "data": {
      "text/plain": [
       "[{'name': 'Ram', 'age': 78, 'add': 'Kathmandu'},\n",
       " {'name': 'Shyam', 'age': 89, 'add': 'Bara'}]"
      ]
     },
     "execution_count": 35,
     "metadata": {},
     "output_type": "execute_result"
    }
   ],
   "source": [
    "l = []\n",
    "n = int(input(\"Enter n = \"))\n",
    "for i in range(n):\n",
    "    name = input(\"Enter name = \")\n",
    "    age = int(input(\"Enter age = \"))\n",
    "    add = input(\"Enter add = \")\n",
    "    d = {'name':name,'age':age,'add':add}\n",
    "    l.append(d)\n",
    "    \n",
    "l"
   ]
  },
  {
   "cell_type": "code",
   "execution_count": 37,
   "id": "1fa2f0d9",
   "metadata": {},
   "outputs": [
    {
     "data": {
      "text/plain": [
       "'Ram'"
      ]
     },
     "execution_count": 37,
     "metadata": {},
     "output_type": "execute_result"
    }
   ],
   "source": [
    "l[0]['name'] = \"Rama\"\n"
   ]
  },
  {
   "cell_type": "code",
   "execution_count": 38,
   "id": "6c16b30d",
   "metadata": {},
   "outputs": [
    {
     "data": {
      "text/plain": [
       "[{'name': 'Shyam', 'age': 89, 'add': 'Bara'}]"
      ]
     },
     "execution_count": 38,
     "metadata": {},
     "output_type": "execute_result"
    }
   ],
   "source": [
    "del l[0]\n",
    "l"
   ]
  },
  {
   "cell_type": "code",
   "execution_count": 42,
   "id": "0943b305",
   "metadata": {},
   "outputs": [
    {
     "data": {
      "text/plain": [
       "{1: {'name': 'Ram', 'grade': 'A'},\n",
       " 2: {'name': 'Hari', 'grade': 'B'},\n",
       " 3: {'name': 'Sita', 'grade': 'C'}}"
      ]
     },
     "execution_count": 42,
     "metadata": {},
     "output_type": "execute_result"
    }
   ],
   "source": [
    "# dict inside dict\n",
    "d = {1:{\"name\":\"Ram\",\"grade\":\"A\"},\n",
    "    2:{\"name\":\"Hari\",\"grade\":\"B\"},\n",
    "    3:{\"name\":\"Sita\",\"grade\":\"C\"}}\n",
    "d"
   ]
  },
  {
   "cell_type": "code",
   "execution_count": 45,
   "id": "646afcae",
   "metadata": {},
   "outputs": [
    {
     "data": {
      "text/plain": [
       "{1: {'name': 'Ram', 'grade': 'A'}, 2: {'name': 'Hari', 'grade': 'B'}}"
      ]
     },
     "execution_count": 45,
     "metadata": {},
     "output_type": "execute_result"
    }
   ],
   "source": [
    "d = {}\n",
    "d[1]={\"name\":\"Ram\",\"grade\":\"A\"}\n",
    "d[2] = {\"name\":\"Hari\",\"grade\":\"B\"}\n",
    "d"
   ]
  },
  {
   "cell_type": "code",
   "execution_count": 48,
   "id": "272635e6",
   "metadata": {},
   "outputs": [
    {
     "data": {
      "text/plain": [
       "'Ram'"
      ]
     },
     "execution_count": 48,
     "metadata": {},
     "output_type": "execute_result"
    }
   ],
   "source": [
    "d = {1:{\"name\":\"Ram\",\"grade\":\"A\"},\n",
    "    2:{\"name\":\"Hari\",\"grade\":\"B\"},\n",
    "    3:{\"name\":\"Sita\",\"grade\":\"C\"}}\n",
    "d[1]['name']"
   ]
  },
  {
   "cell_type": "code",
   "execution_count": null,
   "id": "27723191",
   "metadata": {},
   "outputs": [],
   "source": []
  }
 ],
 "metadata": {
  "kernelspec": {
   "display_name": "Python 3 (ipykernel)",
   "language": "python",
   "name": "python3"
  },
  "language_info": {
   "codemirror_mode": {
    "name": "ipython",
    "version": 3
   },
   "file_extension": ".py",
   "mimetype": "text/x-python",
   "name": "python",
   "nbconvert_exporter": "python",
   "pygments_lexer": "ipython3",
   "version": "3.9.12"
  }
 },
 "nbformat": 4,
 "nbformat_minor": 5
}
