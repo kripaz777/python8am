{
 "cells": [
  {
   "cell_type": "code",
   "execution_count": 1,
   "id": "ea42d84a",
   "metadata": {},
   "outputs": [],
   "source": [
    "# if <condition>:\n",
    "#     <operation>\n",
    "# elif <condition>:\n",
    "#     <operations>\n",
    "# ....\n",
    "# else:\n",
    "#     <operations>\n"
   ]
  },
  {
   "cell_type": "code",
   "execution_count": 2,
   "id": "c73ecfe4",
   "metadata": {},
   "outputs": [],
   "source": [
    "# < > >= <= == !="
   ]
  },
  {
   "cell_type": "code",
   "execution_count": 12,
   "id": "b92b2d2f",
   "metadata": {},
   "outputs": [
    {
     "data": {
      "text/plain": [
       "False"
      ]
     },
     "execution_count": 12,
     "metadata": {},
     "output_type": "execute_result"
    }
   ],
   "source": [
    "a = 20\n",
    "b = 20\n",
    "a!=b"
   ]
  },
  {
   "cell_type": "code",
   "execution_count": 13,
   "id": "20e9baab",
   "metadata": {},
   "outputs": [
    {
     "data": {
      "text/plain": [
       "True"
      ]
     },
     "execution_count": 13,
     "metadata": {},
     "output_type": "execute_result"
    }
   ],
   "source": [
    "a%2==0"
   ]
  },
  {
   "cell_type": "code",
   "execution_count": 14,
   "id": "8d9fa3b4",
   "metadata": {},
   "outputs": [
    {
     "name": "stdout",
     "output_type": "stream",
     "text": [
      "Enter a = 10\n",
      "10 is even\n"
     ]
    }
   ],
   "source": [
    "a = int(input(\"Enter a = \"))\n",
    "if a%2==0:\n",
    "    print(a,\"is even\")\n",
    "else:\n",
    "    print(a,\"is odd\")"
   ]
  },
  {
   "cell_type": "code",
   "execution_count": 15,
   "id": "0fa1c004",
   "metadata": {},
   "outputs": [
    {
     "name": "stdout",
     "output_type": "stream",
     "text": [
      "Enter a = 10\n",
      "Enter b = 20\n",
      "20 is greater\n"
     ]
    }
   ],
   "source": [
    "a = int(input(\"Enter a = \"))\n",
    "b = int(input(\"Enter b = \"))\n",
    "if a>b:\n",
    "    print(a,\"is greater\")\n",
    "elif b>a:\n",
    "    print(b,\"is greater\")\n",
    "else:\n",
    "    print(\"Both are equal\")"
   ]
  },
  {
   "cell_type": "code",
   "execution_count": null,
   "id": "e30f7ee9",
   "metadata": {},
   "outputs": [],
   "source": [
    "a = int(input(\"Enter a = \"))\n",
    "b = int(input(\"Enter b = \"))\n",
    "o = input(\"Enter + - * / \")\n",
    "if o == '+':\n",
    "    print(a+b)\n",
    "elif o == '-':\n",
    "    print(a-b)\n",
    "elif o == '*':\n",
    "    print(a*b)\n",
    "elif o == '/':\n",
    "    print(a/b)\n",
    "else:\n",
    "    print(\"Invalid operator\")"
   ]
  },
  {
   "cell_type": "code",
   "execution_count": 16,
   "id": "5aa87625",
   "metadata": {},
   "outputs": [
    {
     "data": {
      "text/plain": [
       "True"
      ]
     },
     "execution_count": 16,
     "metadata": {},
     "output_type": "execute_result"
    }
   ],
   "source": [
    "# and &\n",
    "# or |\n"
   ]
  },
  {
   "cell_type": "code",
   "execution_count": 18,
   "id": "222ebf65",
   "metadata": {},
   "outputs": [
    {
     "data": {
      "text/plain": [
       "False"
      ]
     },
     "execution_count": 18,
     "metadata": {},
     "output_type": "execute_result"
    }
   ],
   "source": [
    "False and True"
   ]
  },
  {
   "cell_type": "code",
   "execution_count": null,
   "id": "c4becc18",
   "metadata": {},
   "outputs": [],
   "source": [
    "False or True"
   ]
  },
  {
   "cell_type": "code",
   "execution_count": 23,
   "id": "d0d9eeef",
   "metadata": {},
   "outputs": [
    {
     "name": "stdout",
     "output_type": "stream",
     "text": [
      "Enter a = 10\n",
      "Enter b = 0\n",
      "Enter + - * / *\n",
      "0\n"
     ]
    }
   ],
   "source": [
    "a = int(input(\"Enter a = \"))\n",
    "b = int(input(\"Enter b = \"))\n",
    "o = input(\"Enter + - * / \")\n",
    "if o == '+':\n",
    "    print(a+b)\n",
    "elif o == '-':\n",
    "    print(a-b)\n",
    "elif o == '*':\n",
    "    print(a*b)\n",
    "elif (o == '/') and (b != 0):\n",
    "    print(a/b)\n",
    "elif (o == '/') and (b ==0):\n",
    "    print(\"The value of b can not be zero\")\n",
    "else:\n",
    "    print(\"Invalid operator\")"
   ]
  },
  {
   "cell_type": "code",
   "execution_count": null,
   "id": "9b86bc9a",
   "metadata": {},
   "outputs": [],
   "source": [
    "physics = int(input(\"Enter physics marks = \"))\n",
    "chemistry = int(input(\"Enter chemistry marks = \"))\n",
    "math = int(input(\"Enter math marks = \"))\n",
    "english = int(input(\"Enter eglish marks = \"))\n",
    "nepali = int(input(\"Enter nepali marks = \"))\n",
    "\n",
    "total = physics+chemistry+math+english+nepali\n",
    "per = total/5\n",
    "if per>80 or per ==80:\n",
    "    print(\"Grade = A\")\n",
    "elif per>60 or per==60:\n",
    "    print(\"Grade = B\")\n",
    "elif per>45 or per ==45:\n",
    "    print(\"Grade = C\")\n",
    "else:\n",
    "    print(\"Grade = F\")"
   ]
  },
  {
   "cell_type": "code",
   "execution_count": null,
   "id": "41cd9dd4",
   "metadata": {},
   "outputs": [],
   "source": [
    "# # nest if\n",
    "# if <condition>:\n",
    "#     if <condition>:\n",
    "#         <operations>\n",
    "#     else <condition>:\n",
    "#         <operation>"
   ]
  }
 ],
 "metadata": {
  "kernelspec": {
   "display_name": "Python 3 (ipykernel)",
   "language": "python",
   "name": "python3"
  },
  "language_info": {
   "codemirror_mode": {
    "name": "ipython",
    "version": 3
   },
   "file_extension": ".py",
   "mimetype": "text/x-python",
   "name": "python",
   "nbconvert_exporter": "python",
   "pygments_lexer": "ipython3",
   "version": "3.9.12"
  }
 },
 "nbformat": 4,
 "nbformat_minor": 5
}
