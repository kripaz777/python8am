{
 "cells": [
  {
   "cell_type": "code",
   "execution_count": 1,
   "id": "d84af82f",
   "metadata": {},
   "outputs": [
    {
     "name": "stdout",
     "output_type": "stream",
     "text": [
      "Requirement already satisfied: mysql-connector in c:\\users\\aayush\\anaconda3\\lib\\site-packages (2.2.9)\n"
     ]
    }
   ],
   "source": [
    "!pip install mysql-connector"
   ]
  },
  {
   "cell_type": "code",
   "execution_count": 3,
   "id": "d5914fde",
   "metadata": {},
   "outputs": [],
   "source": [
    "import mysql.connector  \t\t#importing database\n",
    "database = mysql.connector.connect(\n",
    "    host=\"localhost\",\n",
    "    user=\"root\",\n",
    "    password=\"\"\n",
    ")\n",
    "db = database.cursor() \n",
    "db.execute(\"CREATE DATABASE pythons3\")\n"
   ]
  },
  {
   "cell_type": "code",
   "execution_count": 6,
   "id": "674c43a2",
   "metadata": {},
   "outputs": [],
   "source": [
    "import mysql.connector  \t\t#importing database\n",
    "database = mysql.connector.connect(\n",
    "    host=\"localhost\",\n",
    "    user=\"root\",\n",
    "    password=\"\",\n",
    "    database = 'class8am'\n",
    ")\n",
    "db = database.cursor()"
   ]
  },
  {
   "cell_type": "code",
   "execution_count": 7,
   "id": "e411be36",
   "metadata": {},
   "outputs": [
    {
     "name": "stdout",
     "output_type": "stream",
     "text": [
      "(1, 'Ram Chandra', 89.0, 90.0, 98.0, 78.0, 76.0, 423.0, 85.0, 'A')\n",
      "(2, 'Sabin KC', 89.0, 96.0, 56.0, 78.0, 98.0, 450.0, 84.0, 'A')\n",
      "(3, 'Anmol KC', 89.0, 67.0, 98.0, 67.0, 87.0, 450.0, 82.5, 'A')\n",
      "(4, 'Roshani', 69.0, 67.0, 98.0, 67.0, 87.0, 450.0, 82.5, 'A')\n"
     ]
    }
   ],
   "source": [
    "db.execute(\"SELECT * FROM student\")\n",
    "result =db.fetchall()\n",
    "for x in result:\n",
    "    print(x)"
   ]
  },
  {
   "cell_type": "code",
   "execution_count": 8,
   "id": "74b354f5",
   "metadata": {},
   "outputs": [
    {
     "name": "stdout",
     "output_type": "stream",
     "text": [
      "(1, 'Ram Chandra', 423.0, 'A')\n",
      "(2, 'Sabin KC', 450.0, 'A')\n",
      "(3, 'Anmol KC', 450.0, 'A')\n",
      "(4, 'Roshani', 450.0, 'A')\n"
     ]
    }
   ],
   "source": [
    "db.execute(\"SELECT sn,name,total,grade FROM student\")\n",
    "result =db.fetchall()\n",
    "for x in result:\n",
    "    print(x)"
   ]
  },
  {
   "cell_type": "code",
   "execution_count": 10,
   "id": "892a84f3",
   "metadata": {},
   "outputs": [],
   "source": [
    "sql = '''INSERT INTO student (sn, name, physics, chemistry, math, english, nepali, total, per, grade) \n",
    "VALUES (12, 'Krishna', 78, 87, 56, 45, 89, 400, 80, 'A');'''\n",
    "db.execute(sql)\n",
    "database.commit()"
   ]
  },
  {
   "cell_type": "code",
   "execution_count": null,
   "id": "6a4a8a32",
   "metadata": {},
   "outputs": [],
   "source": [
    "import mysql.connector  \t\t#importing database\n",
    "database = mysql.connector.connect(\n",
    "    host=\"localhost\",\n",
    "    user=\"root\",\n",
    "    password=\"\",\n",
    "    database = 'class8am'\n",
    ")\n",
    "db = database.cursor()\n",
    "\n",
    "physics = float(input(\"Enter physics = \"))\n",
    "chemistry = float(input(\"Enter chemistry = \"))\n",
    "math = float(input(\"Enter math = \"))\n",
    "english = float(input(\"Enter english = \"))\n",
    "nepali = float(input(\"Enter nepali = \"))\n",
    "\n",
    "total = physics+chemistry+math+english+nepali\n",
    "per = total/5\n",
    "if per>=80:\n",
    "    grade = 'A'\n",
    "elif per>= 60:\n",
    "    grade = 'B'\n",
    "elif per >= 45:\n",
    "    grade = 'C'\n",
    "else:\n",
    "    grade = 'F'\n",
    "    \n",
    "sql = f'''INSERT INTO student (name, physics, chemistry, math, english, nepali, total, per, grade) \n",
    "VALUES ('{name}', {physics}, {chemistry}, {math}, {english}, {nepali}, {total}, {per}, '{grade}');'''\n",
    "db.execute(sql)\n",
    "database.commit()"
   ]
  },
  {
   "cell_type": "code",
   "execution_count": 11,
   "id": "554abae6",
   "metadata": {},
   "outputs": [],
   "source": [
    "# Delete\n",
    "sql = \"DELETE FROM student WHERE sn = 12 \"\n",
    "db.execute(sql)\n",
    "database.commit()"
   ]
  },
  {
   "cell_type": "code",
   "execution_count": null,
   "id": "9f71394a",
   "metadata": {},
   "outputs": [],
   "source": [
    "# Update\n",
    "sql = \"UPDATE student SET name = 'Krish' WHERE name = 'Krishna'\"\n",
    "db.execute(sql)\n",
    "database.commit()\n"
   ]
  }
 ],
 "metadata": {
  "kernelspec": {
   "display_name": "Python 3 (ipykernel)",
   "language": "python",
   "name": "python3"
  },
  "language_info": {
   "codemirror_mode": {
    "name": "ipython",
    "version": 3
   },
   "file_extension": ".py",
   "mimetype": "text/x-python",
   "name": "python",
   "nbconvert_exporter": "python",
   "pygments_lexer": "ipython3",
   "version": "3.9.12"
  }
 },
 "nbformat": 4,
 "nbformat_minor": 5
}
