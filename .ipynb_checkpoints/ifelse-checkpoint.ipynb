{
 "cells": [
  {
   "cell_type": "code",
   "execution_count": 1,
   "id": "a5451e7b",
   "metadata": {},
   "outputs": [],
   "source": [
    "# if else\n"
   ]
  },
  {
   "cell_type": "code",
   "execution_count": null,
   "id": "8eaba9be",
   "metadata": {
    "collapsed": true
   },
   "outputs": [],
   "source": [
    "if <condition>:\n",
    "    <operation>\n",
    "elif <condition>:\n",
    "    <operations>\n",
    "else:\n",
    "    <operati"
   ]
  }
 ],
 "metadata": {
  "kernelspec": {
   "display_name": "Python 3 (ipykernel)",
   "language": "python",
   "name": "python3"
  },
  "language_info": {
   "codemirror_mode": {
    "name": "ipython",
    "version": 3
   },
   "file_extension": ".py",
   "mimetype": "text/x-python",
   "name": "python",
   "nbconvert_exporter": "python",
   "pygments_lexer": "ipython3",
   "version": "3.9.12"
  }
 },
 "nbformat": 4,
 "nbformat_minor": 5
}
