{
 "cells": [
  {
   "cell_type": "code",
   "execution_count": 4,
   "id": "d9d4cd91",
   "metadata": {},
   "outputs": [
    {
     "name": "stdout",
     "output_type": "stream",
     "text": [
      "Hello World\n"
     ]
    }
   ],
   "source": [
    "class Hello:                  #class\n",
    "    print(\"Hello World\")\n",
    "    \n",
    "obj = Hello()                  #object"
   ]
  },
  {
   "cell_type": "code",
   "execution_count": 7,
   "id": "59c7bbf7",
   "metadata": {},
   "outputs": [
    {
     "name": "stdout",
     "output_type": "stream",
     "text": [
      "Hello World\n"
     ]
    }
   ],
   "source": [
    "class Hello:\n",
    "    @staticmethod\n",
    "    def hello():\n",
    "        print(\"Hello World\")\n",
    "        \n",
    "obj = Hello()\n",
    "obj.hello()"
   ]
  },
  {
   "cell_type": "code",
   "execution_count": 8,
   "id": "eb25eff3",
   "metadata": {},
   "outputs": [
    {
     "name": "stdout",
     "output_type": "stream",
     "text": [
      "Hello World\n"
     ]
    }
   ],
   "source": [
    "class Hello:\n",
    "    def hello(self):\n",
    "        print(\"Hello World\")\n",
    "        \n",
    "obj = Hello()\n",
    "obj.hello()"
   ]
  },
  {
   "cell_type": "code",
   "execution_count": 9,
   "id": "930608e8",
   "metadata": {},
   "outputs": [
    {
     "name": "stdout",
     "output_type": "stream",
     "text": [
      "50\n",
      "100\n"
     ]
    }
   ],
   "source": [
    "class Cal:\n",
    "    @staticmethod\n",
    "    def area():\n",
    "        l = 10\n",
    "        b = 5\n",
    "        return l*b\n",
    "    \n",
    "    def volume(self,l,b,h):\n",
    "        v = l*b*h\n",
    "        return v\n",
    "    \n",
    "    \n",
    "obj = Cal()\n",
    "print(obj.area())\n",
    "print(obj.volume(10,5,2))"
   ]
  },
  {
   "cell_type": "code",
   "execution_count": 10,
   "id": "979d0fb8",
   "metadata": {},
   "outputs": [
    {
     "name": "stdout",
     "output_type": "stream",
     "text": [
      "50\n",
      "100\n"
     ]
    }
   ],
   "source": [
    "class Cal:\n",
    "    def area(self):\n",
    "        l = 10\n",
    "        b = 5\n",
    "        return l*b\n",
    "    \n",
    "    def volume(self,l,b,h):\n",
    "        v = l*b*h\n",
    "        return v\n",
    "    \n",
    "    \n",
    "obj = Cal()\n",
    "print(obj.area())\n",
    "print(obj.volume(10,5,2))"
   ]
  },
  {
   "cell_type": "code",
   "execution_count": null,
   "id": "86b4a2fd",
   "metadata": {},
   "outputs": [],
   "source": [
    "class Area:\n",
    "    def area(self,l,b):\n",
    "        return l*b\n",
    "\n",
    "class Volume:\n",
    "    def volume(self,l,b,h): \n",
    "        return l*b*h\n",
    "    \n",
    "    \n",
    "obj = Area()\n",
    "obj1 = Volume()\n",
    "print(obj.area(5,2))\n",
    "print(obj1.volume(10,5,2))"
   ]
  },
  {
   "cell_type": "code",
   "execution_count": 1,
   "id": "860ed7cb",
   "metadata": {},
   "outputs": [
    {
     "name": "stdout",
     "output_type": "stream",
     "text": [
      "50\n",
      "100\n",
      "10\n"
     ]
    }
   ],
   "source": [
    "class Cal:\n",
    "    def __init__(self,l,b,h):\n",
    "        self.l = l\n",
    "        self.b = b\n",
    "        self.h = h\n",
    "        \n",
    "    def area(self):\n",
    "        return self.l*self.b\n",
    "    \n",
    "    def volume(self):\n",
    "        v = self.l*self.b*self.h\n",
    "        return v\n",
    "    \n",
    "    \n",
    "obj = Cal(10,5,2)\n",
    "print(obj.area())\n",
    "print(obj.volume())\n",
    "print(obj.l)"
   ]
  },
  {
   "cell_type": "code",
   "execution_count": null,
   "id": "008579f6",
   "metadata": {},
   "outputs": [],
   "source": []
  },
  {
   "cell_type": "code",
   "execution_count": null,
   "id": "52f9d567",
   "metadata": {},
   "outputs": [],
   "source": [
    "class Cal:\n",
    "    def __init__(self,l,b):\n",
    "        self.l = l\n",
    "        self.b = b\n",
    "        \n",
    "    def area(self):\n",
    "        return self.l*self.b\n",
    "    \n",
    "    def volume(self,h):\n",
    "        v = self.l*self.b*h\n",
    "        return v\n",
    "    \n",
    "    \n",
    "obj = Cal(10,5)\n",
    "print(obj.area())\n",
    "print(obj.volume(2))"
   ]
  },
  {
   "cell_type": "code",
   "execution_count": 2,
   "id": "1936b3be",
   "metadata": {},
   "outputs": [
    {
     "name": "stdout",
     "output_type": "stream",
     "text": [
      "Enter l = 10\n",
      "Enter b  2\n",
      "Enter h = 3\n",
      "20\n",
      "60\n"
     ]
    }
   ],
   "source": [
    "class Cal:\n",
    "    def __init__(self):\n",
    "        self.l = int(input(\"Enter l = \"))\n",
    "        self.b = int(input(\"Enter b  \"))\n",
    "        self.h = int(input(\"Enter h = \"))\n",
    "        \n",
    "    def area(self):\n",
    "        return self.l*self.b\n",
    "    \n",
    "    def volume(self):\n",
    "        v = self.l*self.b*self.h\n",
    "        return v\n",
    "    \n",
    "    \n",
    "obj = Cal()\n",
    "print(obj.area())\n",
    "print(obj.volume())"
   ]
  },
  {
   "cell_type": "code",
   "execution_count": null,
   "id": "5b0cea98",
   "metadata": {},
   "outputs": [],
   "source": []
  }
 ],
 "metadata": {
  "kernelspec": {
   "display_name": "Python 3 (ipykernel)",
   "language": "python",
   "name": "python3"
  },
  "language_info": {
   "codemirror_mode": {
    "name": "ipython",
    "version": 3
   },
   "file_extension": ".py",
   "mimetype": "text/x-python",
   "name": "python",
   "nbconvert_exporter": "python",
   "pygments_lexer": "ipython3",
   "version": "3.9.12"
  }
 },
 "nbformat": 4,
 "nbformat_minor": 5
}
