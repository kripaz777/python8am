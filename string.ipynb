{
 "cells": [
  {
   "cell_type": "code",
   "execution_count": null,
   "id": "3fa80988",
   "metadata": {},
   "outputs": [],
   "source": [
    "# string"
   ]
  },
  {
   "cell_type": "code",
   "execution_count": 1,
   "id": "08aa9e65",
   "metadata": {},
   "outputs": [
    {
     "name": "stdout",
     "output_type": "stream",
     "text": [
      "<class 'str'>\n",
      "<class 'str'>\n",
      "<class 'str'>\n"
     ]
    }
   ],
   "source": [
    "a = 'Hello World'\n",
    "b = \"Hello World\"\n",
    "c = '''Hello World'''\n",
    "\n",
    "print(type(a))\n",
    "print(type(b))\n",
    "print(type(c))"
   ]
  },
  {
   "cell_type": "code",
   "execution_count": 3,
   "id": "d6b45c7c",
   "metadata": {},
   "outputs": [
    {
     "name": "stdout",
     "output_type": "stream",
     "text": [
      "Hello World\n",
      "Hello World\n",
      "\n"
     ]
    }
   ],
   "source": [
    "# + *\n",
    "a = \"Hello World\\n\"\n",
    "print(a*2)"
   ]
  },
  {
   "cell_type": "code",
   "execution_count": 4,
   "id": "e866cdfb",
   "metadata": {},
   "outputs": [
    {
     "name": "stdout",
     "output_type": "stream",
     "text": [
      "Hello World\n"
     ]
    }
   ],
   "source": [
    "a = \"Hello \"\n",
    "b = \"World\"\n",
    "c = a+b\n",
    "print(c)"
   ]
  },
  {
   "cell_type": "code",
   "execution_count": 6,
   "id": "9272cf3a",
   "metadata": {},
   "outputs": [
    {
     "data": {
      "text/plain": [
       "10"
      ]
     },
     "execution_count": 6,
     "metadata": {},
     "output_type": "execute_result"
    }
   ],
   "source": [
    "a = int('10')\n",
    "a"
   ]
  },
  {
   "cell_type": "code",
   "execution_count": 7,
   "id": "f99a0126",
   "metadata": {},
   "outputs": [
    {
     "data": {
      "text/plain": [
       "'H'"
      ]
     },
     "execution_count": 7,
     "metadata": {},
     "output_type": "execute_result"
    }
   ],
   "source": [
    "a = \"Hello World\"\n",
    "a[0]"
   ]
  },
  {
   "cell_type": "code",
   "execution_count": 16,
   "id": "f0d0e171",
   "metadata": {},
   "outputs": [
    {
     "data": {
      "text/plain": [
       "'Hello World'"
      ]
     },
     "execution_count": 16,
     "metadata": {},
     "output_type": "execute_result"
    }
   ],
   "source": [
    "a = \"Hello World\"\n",
    "b = a[0:500]\n",
    "b"
   ]
  },
  {
   "cell_type": "code",
   "execution_count": 15,
   "id": "b2fdda54",
   "metadata": {},
   "outputs": [
    {
     "data": {
      "text/plain": [
       "'HloWrd'"
      ]
     },
     "execution_count": 15,
     "metadata": {},
     "output_type": "execute_result"
    }
   ],
   "source": [
    "a = \"Hello World\"\n",
    "b = a[0:110:2]\n",
    "b"
   ]
  },
  {
   "cell_type": "code",
   "execution_count": 24,
   "id": "3bcb3c23",
   "metadata": {},
   "outputs": [
    {
     "data": {
      "text/plain": [
       "'dlroW olleH'"
      ]
     },
     "execution_count": 24,
     "metadata": {},
     "output_type": "execute_result"
    }
   ],
   "source": [
    "a = \"Hello World\"\n",
    "b = a[10::-1]\n",
    "b"
   ]
  },
  {
   "cell_type": "code",
   "execution_count": 22,
   "id": "45f36dfd",
   "metadata": {},
   "outputs": [
    {
     "data": {
      "text/plain": [
       "'dlroW olleH'"
      ]
     },
     "execution_count": 22,
     "metadata": {},
     "output_type": "execute_result"
    }
   ],
   "source": [
    "a = \"Hello World\"\n",
    "b = a[::-1]\n",
    "b"
   ]
  },
  {
   "cell_type": "code",
   "execution_count": 25,
   "id": "27963a8e",
   "metadata": {},
   "outputs": [
    {
     "data": {
      "text/plain": [
       "'Hello my name is Ram. I am 34.'"
      ]
     },
     "execution_count": 25,
     "metadata": {},
     "output_type": "execute_result"
    }
   ],
   "source": [
    "# String formatting\n",
    "name = \"Ram\"\n",
    "age = 34\n",
    "data =f\"Hello my name is {name}. I am {age}.\" \n",
    "data"
   ]
  },
  {
   "cell_type": "code",
   "execution_count": 26,
   "id": "179c76c5",
   "metadata": {},
   "outputs": [
    {
     "name": "stdout",
     "output_type": "stream",
     "text": [
      "Enter name = Ram\n",
      "Enter age = 78\n",
      "Enter add = Kathmandu\n"
     ]
    },
    {
     "data": {
      "text/plain": [
       "'Hello I am Ram. I am from Kathmandu. I am 78.'"
      ]
     },
     "execution_count": 26,
     "metadata": {},
     "output_type": "execute_result"
    }
   ],
   "source": [
    "name = input(\"Enter name = \")\n",
    "age = int(input(\"Enter age = \"))\n",
    "add = input(\"Enter add = \")\n",
    "data = f\"Hello I am {name}. I am from {add}. I am {age}.\"\n",
    "data"
   ]
  },
  {
   "cell_type": "code",
   "execution_count": 1,
   "id": "30f64647",
   "metadata": {},
   "outputs": [
    {
     "name": "stdout",
     "output_type": "stream",
     "text": [
      "Enter n = 2\n",
      "Enter name = Apple\n",
      "Enter price = 200\n",
      "Enter quantity = 4\n",
      "Enter name = banana\n",
      "Enter price = 100\n",
      "Enter quantity = 2\n",
      "Apple 200 4 800\n",
      "banana 100 2 200\n",
      "\n"
     ]
    }
   ],
   "source": [
    "s = str()\n",
    "n = int(input(\"Enter n = \"))\n",
    "for i in range(n):\n",
    "    name = input(\"Enter name = \")\n",
    "    price = int(input(\"Enter price = \"))\n",
    "    quantity = int(input(\"Enter quantity = \"))\n",
    "    total = price*quantity\n",
    "    bill = f\"{name} {price} {quantity} {total}\\n\"\n",
    "    s = s+bill\n",
    "    \n",
    "print(s)"
   ]
  },
  {
   "cell_type": "code",
   "execution_count": 2,
   "id": "eb3dea06",
   "metadata": {},
   "outputs": [
    {
     "data": {
      "text/plain": [
       "'Apple 200 4 800\\nbanana 100 2 200\\n'"
      ]
     },
     "execution_count": 2,
     "metadata": {},
     "output_type": "execute_result"
    }
   ],
   "source": [
    "s "
   ]
  },
  {
   "cell_type": "code",
   "execution_count": 4,
   "id": "d4fe74c3",
   "metadata": {},
   "outputs": [
    {
     "name": "stdout",
     "output_type": "stream",
     "text": [
      "Ram Shyam Hari Sita Gita Ramesh"
     ]
    }
   ],
   "source": [
    "s = \"Ram Shyam Hari Sita Gita Ramesh\"\n",
    "for i in s:\n",
    "    print(i,end = \"\")"
   ]
  },
  {
   "cell_type": "code",
   "execution_count": 6,
   "id": "47b6ac89",
   "metadata": {},
   "outputs": [
    {
     "name": "stdout",
     "output_type": "stream",
     "text": [
      "Yes\n"
     ]
    }
   ],
   "source": [
    "s = \"Ram Shyam Hari Sita Gita Ramesh\"\n",
    "if \"Ram\" in s:\n",
    "    print(\"Yes\")\n",
    "else:\n",
    "    print(\"No\")"
   ]
  },
  {
   "cell_type": "code",
   "execution_count": 14,
   "id": "19e60edc",
   "metadata": {},
   "outputs": [
    {
     "name": "stdout",
     "output_type": "stream",
     "text": [
      "Enter s = ram\n",
      "No\n"
     ]
    }
   ],
   "source": [
    "s = \"Ram Shyam Hari Sita Gita Ramesh\"\n",
    "search = input(\"Enter s = \")\n",
    "if search in s:\n",
    "    print(\"Yes\")\n",
    "    print(s.count(search))\n",
    "else:\n",
    "    print(\"No\")"
   ]
  },
  {
   "cell_type": "code",
   "execution_count": 18,
   "id": "ac0a2594",
   "metadata": {},
   "outputs": [
    {
     "name": "stdout",
     "output_type": "stream",
     "text": [
      "RAM SHYAM HARI SITA GITA RAMESH\n",
      "Ram Shyam Hari Sita Gita Ramesh\n"
     ]
    }
   ],
   "source": [
    "s = \"Ram Shyam Hari Sita Gita Ramesh\"\n",
    "print(s.upper())\n",
    "print(s)"
   ]
  },
  {
   "cell_type": "code",
   "execution_count": 20,
   "id": "b45ddc32",
   "metadata": {},
   "outputs": [
    {
     "name": "stdout",
     "output_type": "stream",
     "text": [
      "RAM SHYAM HARI SITA GITA RAMESH\n"
     ]
    }
   ],
   "source": [
    "s = \"Ram Shyam Hari Sita Gita Ramesh\"\n",
    "s = s.upper()\n",
    "print(s)"
   ]
  },
  {
   "cell_type": "code",
   "execution_count": 21,
   "id": "6ac26470",
   "metadata": {},
   "outputs": [
    {
     "name": "stdout",
     "output_type": "stream",
     "text": [
      "ram shyam hari sita gita ramesh\n"
     ]
    }
   ],
   "source": [
    "s = \"Ram Shyam Hari Sita Gita Ramesh\"\n",
    "s = s.lower()\n",
    "print(s)"
   ]
  },
  {
   "cell_type": "code",
   "execution_count": 28,
   "id": "5c863537",
   "metadata": {},
   "outputs": [
    {
     "data": {
      "text/plain": [
       "'Ram Shyam Hari Sita Gita Ramesh'"
      ]
     },
     "execution_count": 28,
     "metadata": {},
     "output_type": "execute_result"
    }
   ],
   "source": [
    "a = \"ram shyam hari sita gita ramesh\"\n",
    "a.title()"
   ]
  },
  {
   "cell_type": "code",
   "execution_count": 23,
   "id": "7897e666",
   "metadata": {},
   "outputs": [
    {
     "name": "stdout",
     "output_type": "stream",
     "text": [
      "Enter s = Ram\n",
      "Yes\n",
      "2\n"
     ]
    }
   ],
   "source": [
    "s = \"Ram Shyam Hari Sita Gita Ramesh\".upper()\n",
    "search = input(\"Enter s = \").upper()\n",
    "if search in s:\n",
    "    print(\"Yes\")\n",
    "    print(s.count(search))\n",
    "else:\n",
    "    print(\"No\")"
   ]
  },
  {
   "cell_type": "code",
   "execution_count": 25,
   "id": "445fd0aa",
   "metadata": {},
   "outputs": [
    {
     "data": {
      "text/plain": [
       "'Ram Shyam hari Sita Gita Ramesh'"
      ]
     },
     "execution_count": 25,
     "metadata": {},
     "output_type": "execute_result"
    }
   ],
   "source": [
    "# replace()\n",
    "s = \"Ram Shyam Hari Sita Gita Ramesh\"\n",
    "s = s.replace('Hari','hari')\n",
    "s"
   ]
  },
  {
   "cell_type": "code",
   "execution_count": 26,
   "id": "23dc29d3",
   "metadata": {},
   "outputs": [
    {
     "data": {
      "text/plain": [
       "'Ram Shyam  Sita Gita Ramesh'"
      ]
     },
     "execution_count": 26,
     "metadata": {},
     "output_type": "execute_result"
    }
   ],
   "source": [
    "# replace()\n",
    "s = \"Ram Shyam Hari Sita Gita Ramesh\"\n",
    "s = s.replace('Hari','')\n",
    "s"
   ]
  },
  {
   "cell_type": "code",
   "execution_count": 27,
   "id": "93c52e4b",
   "metadata": {},
   "outputs": [
    {
     "data": {
      "text/plain": [
       "['Ram', 'Shyam', 'Hari', 'Sita', 'Gita', 'Ramesh']"
      ]
     },
     "execution_count": 27,
     "metadata": {},
     "output_type": "execute_result"
    }
   ],
   "source": [
    "s = \"Ram Shyam Hari Sita Gita Ramesh\"\n",
    "s.split()"
   ]
  },
  {
   "cell_type": "code",
   "execution_count": null,
   "id": "7de62d5d",
   "metadata": {},
   "outputs": [],
   "source": []
  }
 ],
 "metadata": {
  "kernelspec": {
   "display_name": "Python 3 (ipykernel)",
   "language": "python",
   "name": "python3"
  },
  "language_info": {
   "codemirror_mode": {
    "name": "ipython",
    "version": 3
   },
   "file_extension": ".py",
   "mimetype": "text/x-python",
   "name": "python",
   "nbconvert_exporter": "python",
   "pygments_lexer": "ipython3",
   "version": "3.9.12"
  }
 },
 "nbformat": 4,
 "nbformat_minor": 5
}
